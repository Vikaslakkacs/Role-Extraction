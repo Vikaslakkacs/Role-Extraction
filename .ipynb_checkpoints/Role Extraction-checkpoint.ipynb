{
 "cells": [
  {
   "cell_type": "code",
   "execution_count": 1,
   "metadata": {},
   "outputs": [],
   "source": [
    "import spacy\n",
    "from spacy.pipeline import EntityRuler\n",
    "from spacy.lang.en import English"
   ]
  },
  {
   "cell_type": "code",
   "execution_count": 2,
   "metadata": {},
   "outputs": [],
   "source": [
    "nlp= English()\n",
    "ruler= EntityRuler(nlp)\n",
    "nlp.add_pipe(ruler)"
   ]
  },
  {
   "cell_type": "code",
   "execution_count": 4,
   "metadata": {},
   "outputs": [
    {
     "data": {
      "text/plain": [
       "<spacy.pipeline.entityruler.EntityRuler at 0x25a871e15f8>"
      ]
     },
     "execution_count": 4,
     "metadata": {},
     "output_type": "execute_result"
    }
   ],
   "source": [
    "### load patterns from disk\n",
    "ruler.from_disk('Entityruler Pattern')"
   ]
  },
  {
   "cell_type": "code",
   "execution_count": 5,
   "metadata": {},
   "outputs": [
    {
     "data": {
      "text/plain": [
       "1329"
      ]
     },
     "execution_count": 5,
     "metadata": {},
     "output_type": "execute_result"
    }
   ],
   "source": [
    "len(ruler.patterns)"
   ]
  },
  {
   "cell_type": "code",
   "execution_count": 11,
   "metadata": {},
   "outputs": [
    {
     "name": "stdout",
     "output_type": "stream",
     "text": [
      "[{'label': 'Role', 'pattern': [{'LOWER': 'profile'}, {'IS_PUNCT': True, 'OP': '*'}, {'LOWER': 'administrator'}]}, {'label': 'Role', 'pattern': [{'LOWER': 'profile'}, {'IS_PUNCT': True, 'OP': '*'}, {'LOWER': 'mgmt'}, {'IS_PUNCT': True, 'OP': '*'}, {'LOWER': 'employee'}]}, {'label': 'Role', 'pattern': [{'LOWER': 'profile'}, {'IS_PUNCT': True, 'OP': '*'}, {'LOWER': 'mgmt'}, {'IS_PUNCT': True, 'OP': '*'}, {'LOWER': 'manager'}]}, {'label': 'Role', 'pattern': [{'LOWER': 'dc_pruefhaken'}]}, {'label': 'Role', 'pattern': [{'LOWER': 'qom'}, {'IS_PUNCT': True, 'OP': '*'}, {'LOWER': 'administrator'}]}]\n"
     ]
    }
   ],
   "source": [
    "print(ruler.patterns[:5])"
   ]
  },
  {
   "cell_type": "code",
   "execution_count": 12,
   "metadata": {},
   "outputs": [
    {
     "name": "stdout",
     "output_type": "stream",
     "text": [
      "OD Employee ePerformance-->Role\n"
     ]
    }
   ],
   "source": [
    "doc= nlp(u\"Request you to please add 'OD Employee ePerformance' role for userid VILAKKA\")\n",
    "for ent in doc.ents:\n",
    "    print(ent.text +'-->'+ ent.label_)"
   ]
  },
  {
   "cell_type": "code",
   "execution_count": null,
   "metadata": {},
   "outputs": [],
   "source": []
  }
 ],
 "metadata": {
  "kernelspec": {
   "display_name": "Python 3",
   "language": "python",
   "name": "python3"
  },
  "language_info": {
   "codemirror_mode": {
    "name": "ipython",
    "version": 3
   },
   "file_extension": ".py",
   "mimetype": "text/x-python",
   "name": "python",
   "nbconvert_exporter": "python",
   "pygments_lexer": "ipython3",
   "version": "3.7.1"
  }
 },
 "nbformat": 4,
 "nbformat_minor": 4
}
