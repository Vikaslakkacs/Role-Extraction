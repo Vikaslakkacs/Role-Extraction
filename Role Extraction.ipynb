{
 "cells": [
  {
   "cell_type": "code",
   "execution_count": 13,
   "metadata": {},
   "outputs": [],
   "source": [
    "import spacy\n",
    "from spacy.pipeline import EntityRuler\n",
    "from spacy.lang.en import English"
   ]
  },
  {
   "cell_type": "code",
   "execution_count": 14,
   "metadata": {},
   "outputs": [],
   "source": [
    "nlp= English()\n",
    "ruler= EntityRuler(nlp)\n",
    "nlp.add_pipe(ruler)"
   ]
  },
  {
   "cell_type": "code",
   "execution_count": 18,
   "metadata": {},
   "outputs": [
    {
     "data": {
      "text/plain": [
       "<spacy.pipeline.entityruler.EntityRuler at 0x25a88186780>"
      ]
     },
     "execution_count": 18,
     "metadata": {},
     "output_type": "execute_result"
    }
   ],
   "source": [
    "### load patterns from disk\n",
    "ruler.from_disk('Entity Patterns')"
   ]
  },
  {
   "cell_type": "code",
   "execution_count": 19,
   "metadata": {},
   "outputs": [
    {
     "data": {
      "text/plain": [
       "1329"
      ]
     },
     "execution_count": 19,
     "metadata": {},
     "output_type": "execute_result"
    }
   ],
   "source": [
    "len(ruler.patterns)"
   ]
  },
  {
   "cell_type": "code",
   "execution_count": 20,
   "metadata": {},
   "outputs": [
    {
     "name": "stdout",
     "output_type": "stream",
     "text": [
      "[{'label': 'Role', 'pattern': [{'LOWER': 'profile'}, {'IS_PUNCT': True, 'OP': '*'}, {'LOWER': 'administrator'}], 'id': 'Profile Administrator'}, {'label': 'Role', 'pattern': [{'LOWER': 'profile'}, {'IS_PUNCT': True, 'OP': '*'}, {'LOWER': 'mgmt'}, {'IS_PUNCT': True, 'OP': '*'}, {'LOWER': 'employee'}], 'id': 'Profile Mgmt Employee'}, {'label': 'Role', 'pattern': [{'LOWER': 'profile'}, {'IS_PUNCT': True, 'OP': '*'}, {'LOWER': 'mgmt'}, {'IS_PUNCT': True, 'OP': '*'}, {'LOWER': 'manager'}], 'id': 'Profile Mgmt Manager'}, {'label': 'Role', 'pattern': [{'LOWER': 'dc_pruefhaken'}], 'id': 'DC_PRUEFHAKEN'}, {'label': 'Role', 'pattern': [{'LOWER': 'qom'}, {'IS_PUNCT': True, 'OP': '*'}, {'LOWER': 'administrator'}], 'id': 'QOM Administrator'}]\n"
     ]
    }
   ],
   "source": [
    "print(ruler.patterns[:5])"
   ]
  },
  {
   "cell_type": "code",
   "execution_count": 30,
   "metadata": {},
   "outputs": [
    {
     "name": "stdout",
     "output_type": "stream",
     "text": [
      "CS - Supervisor Refund Appr-->Role-->CS - Supervisor Refund Appr\n"
     ]
    }
   ],
   "source": [
    "doc= nlp(u\"Request you to please add 'CS - Supervisor Refund Appr' role for userid VILAKKA\")\n",
    "for ent in doc.ents:\n",
    "    print(ent.text +'-->'+ ent.label_+'-->'+ ent.ent_id_)"
   ]
  },
  {
   "cell_type": "code",
   "execution_count": null,
   "metadata": {},
   "outputs": [],
   "source": []
  }
 ],
 "metadata": {
  "kernelspec": {
   "display_name": "Python 3",
   "language": "python",
   "name": "python3"
  },
  "language_info": {
   "codemirror_mode": {
    "name": "ipython",
    "version": 3
   },
   "file_extension": ".py",
   "mimetype": "text/x-python",
   "name": "python",
   "nbconvert_exporter": "python",
   "pygments_lexer": "ipython3",
   "version": "3.7.1"
  }
 },
 "nbformat": 4,
 "nbformat_minor": 4
}
